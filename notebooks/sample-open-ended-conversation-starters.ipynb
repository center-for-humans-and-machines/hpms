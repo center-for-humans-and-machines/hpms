{
 "cells": [
  {
   "cell_type": "markdown",
   "id": "0dd414cb",
   "metadata": {},
   "source": [
    "# Open-ended dataset conversation starters for regression testing\n",
    "\n",
    "The dataset we use to sample conversation starters is available at:\n",
    "https://huggingface.co/datasets/HuggingFaceTB/everyday-conversations-llama3.1-2k\n",
    "\n",
    "This code will read the dataset, sample 100 random rows, extract the second message from the User in each conversation, remove trailing quotations and backslash while processing CSV, and save it to a CSV file.\n"
   ]
  },
  {
   "cell_type": "code",
   "execution_count": 1,
   "id": "c3ec5662",
   "metadata": {},
   "outputs": [
    {
     "name": "stdout",
     "output_type": "stream",
     "text": [
      "I'm trying to track my expenses. Can you help me with that?\n"
     ]
    }
   ],
   "source": [
    "import polars as pl\n",
    "\n",
    "splits = {\n",
    "    \"train_sft\": \"data/train_sft-00000-of-00001.parquet\",\n",
    "    \"test_sft\": \"data/test_sft-00000-of-00001.parquet\",\n",
    "}\n",
    "df = pl.read_parquet(\n",
    "    \"hf://datasets/HuggingFaceTB/everyday-conversations-llama3.1-2k/\"\n",
    "    + splits[\"train_sft\"]\n",
    ")\n",
    "\n",
    "# show the second message of Users\n",
    "user_msgs = [\n",
    "    msg[\"content\"] for row in df[\"messages\"] for msg in row if msg.get(\"role\") == \"user\"\n",
    "]\n",
    "if len(user_msgs) > 1:\n",
    "    print(user_msgs[1])\n",
    "else:\n",
    "    print(\"Less than two user messages found.\")"
   ]
  },
  {
   "cell_type": "code",
   "execution_count": 2,
   "id": "cd50c37f",
   "metadata": {},
   "outputs": [],
   "source": [
    "def remove_quotes_strip(text: str) -> str:\n",
    "    \"\"\"Remove leading and trailing double quotes.\n",
    "\n",
    "    Args:\n",
    "        text: Input string that may have quotes\n",
    "\n",
    "    Returns:\n",
    "        String with quotes stripped\n",
    "    \"\"\"\n",
    "    return text.strip('\"')"
   ]
  },
  {
   "cell_type": "code",
   "execution_count": 3,
   "id": "58fbbf83",
   "metadata": {},
   "outputs": [],
   "source": [
    "def remove_backslash(text: str) -> str:\n",
    "    \"\"\"Remove backslashes from a string.\n",
    "\n",
    "    Args:\n",
    "        text: Input string that may have backslashes\n",
    "\n",
    "    Returns:\n",
    "        String with backslashes removed\n",
    "    \"\"\"\n",
    "    return text.replace(\"\\\\\", \"\")"
   ]
  },
  {
   "cell_type": "code",
   "execution_count": 4,
   "id": "a0bc91fd",
   "metadata": {},
   "outputs": [],
   "source": [
    "# pick 100 random rows\n",
    "sdf = df.sample(n=100, seed=8)\n",
    "sdf\n",
    "\n",
    "# show the second messages of User in completion column\n",
    "# Show the second message of User in the completion column for all rows in sdf\n",
    "second_user_msgs = []\n",
    "for idx, row in enumerate(sdf.iter_rows(named=True)):\n",
    "    messages = row[\"messages\"]\n",
    "    user_msgs = [msg[\"content\"] for msg in messages if msg.get(\"role\") == \"user\"]\n",
    "    # Collect the second user message if it exists\n",
    "    if len(user_msgs) > 1:\n",
    "        second_user_msg = user_msgs[1]\n",
    "    else:\n",
    "        second_user_msg = None\n",
    "    # Append to a list\n",
    "\n",
    "    second_user_msgs.append(remove_backslash(remove_quotes_strip(second_user_msg)))"
   ]
  },
  {
   "cell_type": "code",
   "execution_count": 5,
   "id": "c25abead",
   "metadata": {},
   "outputs": [
    {
     "data": {
      "text/plain": [
       "[\"I'm putting together a basic first aid kit. What are some essential items I should include?\",\n",
       " \"I'm looking for some new music to listen to. What's a good movie soundtrack?\",\n",
       " \"I'm looking for a new laptop, can you tell me about some popular e-commerce platforms where I can buy one?\",\n",
       " \"I'm learning about the water cycle in school. What is transpiration?\",\n",
       " \"I'm trying to get to the city center. What's the fastest way to get there?\",\n",
       " \"I'm looking for some new recipes to try out, do you have any family recipes you can share?\",\n",
       " \"I'm thinking of buying a bike to ride to work. Are there bike lanes in my city?\",\n",
       " \"I'm looking for ways to make my home more energy-efficient. What are some good options for appliances?\",\n",
       " 'What season is it right now?',\n",
       " \"I'm getting ready for summer and I want to know what I should do to get my home ready.\",\n",
       " \"I'm going to a meeting in the city center, but I'm worried about traffic congestion. What's the current traffic situation like?\",\n",
       " \"I'm planning a vacation and looking for some national park recommendations. What's a popular one in the US?\",\n",
       " \"I'm learning about the water cycle in school. What is it?\",\n",
       " \"I'm looking for ways to save money on my daily commute to work. I've heard of carpooling apps, but I don't know much about them.\",\n",
       " \"I have a cat and I'm worried she's not getting enough exercise. How often should I play with her?\",\n",
       " \"I'm interested in space exploration. What is the largest planet in our solar system?\",\n",
       " \"I'm looking for a healthy snack option. Do you have any suggestions?\",\n",
       " \"I have a meeting with someone in New York, but I'm in California. What's the time difference?\",\n",
       " \"I'm looking for some new music to listen to. What's popular right now?\",\n",
       " \"I'm having trouble remembering some formulas for my math test. Do you know any good ways to remember them?\",\n",
       " \"I'm thinking about getting a pet for my family, do you think it's a good idea?\",\n",
       " \"I'm looking for comfortable clothes to wear during the summer. What fabrics should I look for?\",\n",
       " 'I want to improve my communication skills. What is active listening?',\n",
       " \"I'm looking for information about musical instruments. What is a violin?\",\n",
       " \"I'm looking for a new tennis racket. What's a good brand?\",\n",
       " \"I'm feeling stressed and I'd like to learn some relaxation techniques. Do you have any suggestions?\",\n",
       " \"I'm interested in the Olympics. What is the Olympic torch relay?\",\n",
       " \"I'm interested in wearable displays. What are some common types?\",\n",
       " \"I'm interested in learning about high-speed rail. What is it?\",\n",
       " 'What is light?',\n",
       " \"I'm learning about rocks in school, and I was wondering what the main types of rocks are.\",\n",
       " \"I'm planning a trip and I need to buy train tickets. Can you help me with that?\",\n",
       " \"I'm looking for a new hiking trail to explore this weekend. Do you have any recommendations?\",\n",
       " \"I'm having trouble sleeping at night. What is insomnia?\",\n",
       " \"I'm looking for dessert ideas. What are some popular types of puddings?\",\n",
       " \"I'm looking for ways to balance my work and family life. I've heard of job sharing, but I'm not sure what it is.\",\n",
       " 'What causes day and night?',\n",
       " 'What is an echo?',\n",
       " \"I'm concerned about pollution in my city. What's the main cause of light pollution?\",\n",
       " \"I'm looking for a new movie to watch. What are some popular movie genres?\",\n",
       " \"I'm looking for some new casual wear for summer. What's popular this year?\",\n",
       " \"I'm thinking of getting a smart thermostat for my home. What's the main benefit of having one?\",\n",
       " \"I'm planning a trip to New Zealand and I'm looking for some adventure activities to do.\",\n",
       " \"I'm interested in archery. What is the key to achieving precision in archery?\",\n",
       " \"I'm looking for some gift ideas for my friend's birthday. Do you have any suggestions?\",\n",
       " \"I'm looking for ways to get around the city without a car. What are some options?\",\n",
       " \"I have a doctor's appointment tomorrow and I'm not sure what to expect.\",\n",
       " \"I'm going on a trip to Japan soon and I want to take some great photos to share on social media.\",\n",
       " \"I have a lot of homework to do and I'm feeling overwhelmed. Can you help me organize it?\",\n",
       " \"I'm planning to buy a new laptop and I want to compare prices. Can you help me?\",\n",
       " \"I'm looking for a good video conferencing platform for work. What are some popular options?\",\n",
       " \"I'm looking for a new multiplayer game to play. What's a popular one?\",\n",
       " \"I'm having trouble sleeping because of my shift work schedule. Do you have any tips?\",\n",
       " \"I'm having trouble sleeping lately. I'm 60 years old. Do you think my age has something to do with it?\",\n",
       " 'I have a brother who is 10 years older than me. What do you think are some common differences between siblings with a large age gap?',\n",
       " \"What's the difference between a mixture and a solution?\",\n",
       " \"I'm going on a trip to Japan soon. What kind of souvenirs should I buy?\",\n",
       " \"I'm thinking about dinner with my family tonight. What are some popular family dinner ideas?\",\n",
       " \"I'm worried about pollution in my city. Is it really bad for my health?\",\n",
       " \"I'm thinking of buying a new smartphone. What's the main difference between a good camera phone and a regular one?\",\n",
       " \"I'm planning a trip to Paris and I'm looking for affordable accommodations. What's the difference between a hostel and a hotel?\",\n",
       " \"I'm trying to update my wardrobe, but I'm not sure what my personal style is. How does personal style evolve over time?\",\n",
       " \"I'm planning a birthday party for my friend and I want to make sure I stay within my budget. Do you have any tips?\",\n",
       " \"I'm looking for a new laptop, but I want to find the best deal. How often do laptops go on sale?\",\n",
       " \"I'm feeling tired all the time. I'm sleeping for 12 hours a day. Is that normal?\",\n",
       " 'I need to measure the length of a room. What tool should I use?',\n",
       " \"I'm feeling stressed and overwhelmed. What are some ways to relax?\",\n",
       " \"I'm having trouble sleeping at night. Do you know anything about sleep disorders?\",\n",
       " \"I'm looking for information about celebrity fashion lines. Can you tell me about some popular ones?\",\n",
       " \"I'm looking for ways to network with other professionals in my industry. Do you have any suggestions?\",\n",
       " 'I was wondering, how do we measure rain?',\n",
       " 'What is the most widely celebrated holiday in the world?',\n",
       " \"I'm thinking of adopting a pet, what do I need to do to prepare my home?\",\n",
       " \"I'm thinking of adopting a pet, but I'm not sure what kind to get.\",\n",
       " \"I'm thinking about my daily commute to work. What are my main options?\",\n",
       " \"I'm having trouble waking up early in the morning. Do you have any tips?\",\n",
       " \"I'm planning to do some exterior home maintenance this weekend. What's the most important thing to do first?\",\n",
       " \"I'm interested in learning more about golf. Is it a popular sport?\",\n",
       " \"I'm looking for some deals on electronics for Black Friday. Are there any good sales?\",\n",
       " \"I'm learning about simple machines. What is a screw?\",\n",
       " \"I'm a big fan of superhero movies. What's the most popular one?\",\n",
       " 'I have a cat named Max. What are some healthy foods for him?',\n",
       " \"I'm new to the gym and I'm not sure where to start. Can you help me create a workout plan?\",\n",
       " \"I'm feeling stressed and I'm looking for some relaxation techniques. Do you have any suggestions?\",\n",
       " \"I want to start cooking healthier meals, but I'm not sure where to start.\",\n",
       " \"My dog gets really anxious when I leave the house. What's going on?\",\n",
       " \"I'm looking for ways to teach my kids some family recipes. Do you have any tips?\",\n",
       " \"I'm feeling tired at work. Is it okay to take a nap?\",\n",
       " \"I just bought a new wooden table, and I want to keep it looking nice. What's the best way to clean it?\",\n",
       " \"I'm trying to improve my productivity at work. What are some key factors that affect job performance?\",\n",
       " \"I'm interested in learning about unusual musical instruments. Can you tell me about one?\",\n",
       " \"I'm feeling tired lately and I was thinking of taking some vitamin supplements. What are some good vitamins for energy?\",\n",
       " \"I'm thinking of upgrading my home with some smart technology. What's a good place to start?\",\n",
       " \"I'm worried about climate change. What is it?\",\n",
       " \"I want to make a dessert, but I'm not a good cook. Do you have any easy recipes?\",\n",
       " 'I want to start meal planning to reduce food waste. What are some basic steps I can follow?',\n",
       " 'I need some help with meal planning for my family. We have a big family dinner coming up and I want to make something everyone will enjoy.',\n",
       " \"I'm flying to New York tomorrow and I'm not sure about the luggage restrictions.\",\n",
       " 'I need help planning a meal for tonight. Do you have any ideas?',\n",
       " \"I'm looking for a new sportswear brand to try. What's popular right now?\"]"
      ]
     },
     "execution_count": 5,
     "metadata": {},
     "output_type": "execute_result"
    }
   ],
   "source": [
    "second_user_msgs"
   ]
  },
  {
   "cell_type": "code",
   "execution_count": 6,
   "id": "b5fde07a",
   "metadata": {},
   "outputs": [],
   "source": [
    "from typing import List\n",
    "\n",
    "\n",
    "def save_list_to_csv(data: List[str], filename: str) -> None:\n",
    "    \"\"\"Save a simple list to text file, one item per line.\n",
    "\n",
    "    Args:\n",
    "        data: List of strings to save\n",
    "        filename: Output filename\n",
    "    \"\"\"\n",
    "    with open(filename, \"w\", newline=\"\", encoding=\"utf-8\") as file:\n",
    "        for item in data:\n",
    "            if item:  # Only write non-None items\n",
    "                file.write(item + \"\\n\")"
   ]
  },
  {
   "cell_type": "code",
   "execution_count": 7,
   "id": "b968bdde",
   "metadata": {},
   "outputs": [],
   "source": [
    "from hpms.loading.constants import DATASET_3_CONVERSATION_STARTERS\n",
    "\n",
    "save_list_to_csv(second_user_msgs, DATASET_3_CONVERSATION_STARTERS)"
   ]
  },
  {
   "cell_type": "code",
   "execution_count": 8,
   "id": "62d63ee1",
   "metadata": {},
   "outputs": [
    {
     "name": "stdout",
     "output_type": "stream",
     "text": [
      "Number of unique messages: 100\n",
      "shape: (0, 2)\n",
      "┌──────────┬───────┐\n",
      "│ column_1 ┆ count │\n",
      "│ ---      ┆ ---   │\n",
      "│ str      ┆ u32   │\n",
      "╞══════════╪═══════╡\n",
      "└──────────┴───────┘\n"
     ]
    },
    {
     "data": {
      "text/html": [
       "<div><style>\n",
       ".dataframe > thead > tr,\n",
       ".dataframe > tbody > tr {\n",
       "  text-align: right;\n",
       "  white-space: pre-wrap;\n",
       "}\n",
       "</style>\n",
       "<small>shape: (100, 1)</small><table border=\"1\" class=\"dataframe\"><thead><tr><th>column_1</th></tr><tr><td>str</td></tr></thead><tbody><tr><td>&quot;I&#x27;m putting together a basic f…</td></tr><tr><td>&quot;I&#x27;m looking for some new music…</td></tr><tr><td>&quot;I&#x27;m looking for a new laptop, …</td></tr><tr><td>&quot;I&#x27;m learning about the water c…</td></tr><tr><td>&quot;I&#x27;m trying to get to the city …</td></tr><tr><td>&hellip;</td></tr><tr><td>&quot;I want to start meal planning …</td></tr><tr><td>&quot;I need some help with meal pla…</td></tr><tr><td>&quot;I&#x27;m flying to New York tomorro…</td></tr><tr><td>&quot;I need help planning a meal fo…</td></tr><tr><td>&quot;I&#x27;m looking for a new sportswe…</td></tr></tbody></table></div>"
      ],
      "text/plain": [
       "shape: (100, 1)\n",
       "┌─────────────────────────────────┐\n",
       "│ column_1                        │\n",
       "│ ---                             │\n",
       "│ str                             │\n",
       "╞═════════════════════════════════╡\n",
       "│ I'm putting together a basic f… │\n",
       "│ I'm looking for some new music… │\n",
       "│ I'm looking for a new laptop, … │\n",
       "│ I'm learning about the water c… │\n",
       "│ I'm trying to get to the city … │\n",
       "│ …                               │\n",
       "│ I want to start meal planning … │\n",
       "│ I need some help with meal pla… │\n",
       "│ I'm flying to New York tomorro… │\n",
       "│ I need help planning a meal fo… │\n",
       "│ I'm looking for a new sportswe… │\n",
       "└─────────────────────────────────┘"
      ]
     },
     "execution_count": 8,
     "metadata": {},
     "output_type": "execute_result"
    }
   ],
   "source": [
    "# Load second_user_msgs.csv in polars\n",
    "newdf = pl.read_csv(DATASET_3_CONVERSATION_STARTERS, has_header=False, separator=\"|\")\n",
    "\n",
    "# Print number of unique messages\n",
    "print(f\"Number of unique messages: {newdf.n_unique()}\")\n",
    "\n",
    "# Print which message is not unique\n",
    "print(newdf.get_column(\"column_1\").value_counts().filter(pl.col(\"count\") > 1))\n",
    "newdf"
   ]
  }
 ],
 "metadata": {
  "kernelspec": {
   "display_name": ".venv",
   "language": "python",
   "name": "python3"
  },
  "language_info": {
   "codemirror_mode": {
    "name": "ipython",
    "version": 3
   },
   "file_extension": ".py",
   "mimetype": "text/x-python",
   "name": "python",
   "nbconvert_exporter": "python",
   "pygments_lexer": "ipython3",
   "version": "3.13.7"
  }
 },
 "nbformat": 4,
 "nbformat_minor": 5
}
